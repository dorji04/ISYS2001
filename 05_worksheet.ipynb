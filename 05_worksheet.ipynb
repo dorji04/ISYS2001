{
  "cells": [
    {
      "cell_type": "markdown",
      "metadata": {
        "id": "view-in-github",
        "colab_type": "text"
      },
      "source": [
        "<a href=\"https://colab.research.google.com/github/teaching-repositories/ISYS2001/blob/main/05_worksheet.ipynb\" target=\"_parent\"><img src=\"https://colab.research.google.com/assets/colab-badge.svg\" alt=\"Open In Colab\"/></a>"
      ]
    },
    {
      "cell_type": "markdown",
      "metadata": {
        "id": "n_mD6tbi09T_"
      },
      "source": [
        "## Setup and Workflow\n",
        "\n",
        "1. Open your web browser and log in to GitHub.\n",
        "2. Open Google Colab (https://colab.research.google.com/).\n",
        "3. Create a new notebook and rename it to \"Weather_Functions_Exercise\".\n",
        "4. Save the empty notebook to your GitHub repository.\n",
        "5. As you complete each exercise, commit your changes to GitHub to track your progress.\n",
        "\n",
        "## Using Generative AI as a Learning Tool\n",
        "\n",
        "Generative AI tools like ChatGPT or Claude can be valuable resources in your\n",
        "learning process. However, it's crucial to use them strategically to enhance\n",
        "your understanding rather than simply obtaining answers. Here are some\n",
        "guidelines:\n",
        "\n",
        "1. Use AI to explain concepts: If you're struggling with a Python concept or\n",
        "   function, ask the AI to explain it in simple terms or provide analogies.\n",
        "2. Request step-by-step problem-solving: Instead of asking for complete code,\n",
        "   ask the AI to outline the steps needed to solve a problem. This helps you\n",
        "   understand the logic without getting the full solution.\n",
        "3. Verify and understand AI-generated code: If you do get code from an AI, make\n",
        "   sure you understand every line. Ask the AI to explain any parts you don't\n",
        "   understand.\n",
        "4. Use AI for debugging: If your code isn't working, ask the AI to help you\n",
        "   identify potential issues or explain error messages.\n",
        "5. Explore alternatives: Ask the AI about different ways to solve a problem.\n",
        "   This can help you learn multiple approaches and understand their trade-offs.\n",
        "6. Practice critical thinking: Don't assume the AI is always correct. Verify its\n",
        "   suggestions and cross-reference with official documentation or other sources.\n",
        "\n",
        "## Exercises\n",
        "\n",
        "### 1. GenAI Exercise\n",
        "\n",
        "Question 1: Think of a weather-related programming task you're unsure how to\n",
        "approach. Write a strategic question you could ask an AI assistant to help you\n",
        "learn without directly solving the problem for you.\n",
        "\n"
      ]
    },
    {
      "cell_type": "markdown",
      "metadata": {
        "id": "nMTFO8ZG09UA"
      },
      "source": [
        "Q1 Answer (double click to add text):"
      ]
    },
    {
      "cell_type": "markdown",
      "metadata": {
        "id": "P4xzRtOW09UB"
      },
      "source": [
        "### 2. Introduction to Functions\n",
        "\n",
        "Question 2: Explain in your own words what a function is in Python and why we\n",
        "use them.\n"
      ]
    },
    {
      "cell_type": "markdown",
      "metadata": {
        "id": "KtvHrREw09UB"
      },
      "source": [
        "Q2 Answer (double click to add text):"
      ]
    },
    {
      "cell_type": "markdown",
      "metadata": {
        "id": "_cbOWbki09UB"
      },
      "source": [
        "\n",
        "Question 3: Write the general syntax for defining a function in Python. Use\n",
        "comments to explain each part.\n"
      ]
    },
    {
      "cell_type": "markdown",
      "metadata": {
        "id": "aao58Wcv09UC"
      },
      "source": [
        "Q3 Answer (double click to add text):"
      ]
    },
    {
      "cell_type": "markdown",
      "metadata": {
        "id": "HL1FMJo609UC"
      },
      "source": [
        "\n",
        "\n",
        "### 3. Using Built-in Functions\n",
        "\n",
        "For the following exercises, use these lists:"
      ]
    },
    {
      "cell_type": "code",
      "execution_count": null,
      "metadata": {
        "vscode": {
          "languageId": "python"
        },
        "id": "9_UlWfi-09UC"
      },
      "outputs": [],
      "source": [
        "temperatures = [22, 24, 19, 21, 25, 23, 20]  # Weekly temperature data (°C)\n",
        "humidity = [60, 55, 65, 58, 50, 57, 62]      # Weekly humidity data (%)"
      ]
    },
    {
      "cell_type": "markdown",
      "metadata": {
        "id": "vMa-GBW_09UD"
      },
      "source": [
        "Question 4: How would you calculate the number of days in the dataset using a\n",
        "built-in function?"
      ]
    },
    {
      "cell_type": "code",
      "execution_count": null,
      "metadata": {
        "vscode": {
          "languageId": "python"
        },
        "id": "CtSY2PaL09UE"
      },
      "outputs": [],
      "source": [
        "# Place your answer here"
      ]
    },
    {
      "cell_type": "markdown",
      "metadata": {
        "id": "W7am4QS009UE"
      },
      "source": [
        "Question 5: Write a line of code to calculate the total temperature for the\n",
        "week."
      ]
    },
    {
      "cell_type": "code",
      "execution_count": null,
      "metadata": {
        "vscode": {
          "languageId": "python"
        },
        "id": "S6SS_rAq09UE"
      },
      "outputs": [],
      "source": [
        "# Place your answer here"
      ]
    },
    {
      "cell_type": "markdown",
      "metadata": {
        "id": "Bm-H4Wyk09UE"
      },
      "source": [
        "Question 6: Calculate the average humidity. (Hint: You'll need to use two\n",
        "built-in functions)"
      ]
    },
    {
      "cell_type": "code",
      "execution_count": null,
      "metadata": {
        "vscode": {
          "languageId": "python"
        },
        "id": "4vwPmfvQ09UE"
      },
      "outputs": [],
      "source": [
        "# Place your answer here"
      ]
    },
    {
      "cell_type": "markdown",
      "metadata": {
        "id": "UkZeIAfD09UE"
      },
      "source": [
        "### 4. Creating Weather-related Functions\n",
        "\n",
        "Question 7: Write a function called `celsius_to_fahrenheit` that converts a\n",
        "temperature from Celsius to Fahrenheit. (Hint: The formula is F = (C * 9/5) +\n",
        "32)"
      ]
    },
    {
      "cell_type": "code",
      "execution_count": null,
      "metadata": {
        "vscode": {
          "languageId": "python"
        },
        "id": "y1UWPDQ609UE"
      },
      "outputs": [],
      "source": [
        "# Place your answer here"
      ]
    },
    {
      "cell_type": "markdown",
      "metadata": {
        "id": "01RgL6HX09UF"
      },
      "source": [
        "Question 8: Create a function named `average_temperature` that takes a list of\n",
        "temperatures and returns the average."
      ]
    },
    {
      "cell_type": "code",
      "execution_count": null,
      "metadata": {
        "vscode": {
          "languageId": "python"
        },
        "id": "2-5qMUwq09UF"
      },
      "outputs": [],
      "source": [
        "# Place your answer here"
      ]
    },
    {
      "cell_type": "markdown",
      "metadata": {
        "id": "tnCezN0m09UF"
      },
      "source": [
        "Question 9: Define a function called `weather_description` that takes\n",
        "temperature and humidity as parameters and returns a description based on the\n",
        "following criteria:\n",
        "\n",
        "- If temperature > 25°C and humidity < 60%: \"Hot and Dry\"\n",
        "- If temperature > 25°C and humidity >= 60%: \"Hot and Humid\"\n",
        "- If 15°C <= temperature <= 25°C and humidity < 60%: \"Pleasant\"\n",
        "- If 15°C <= temperature <= 25°C and humidity >= 60%: \"Comfortable but Humid\"\n",
        "- Otherwise: \"Cool\""
      ]
    },
    {
      "cell_type": "code",
      "execution_count": null,
      "metadata": {
        "vscode": {
          "languageId": "python"
        },
        "id": "FM_NEih509UF"
      },
      "outputs": [],
      "source": [
        "# Place your answer here"
      ]
    },
    {
      "cell_type": "markdown",
      "metadata": {
        "id": "CSWgccZi09UF"
      },
      "source": [
        "### 5. Using Third-party Libraries: NumPy\n",
        "\n",
        "For the following questions, assume you have already imported numpy as np.\n",
        "\n",
        "Question 10: Using NumPy, create an array called `temp_array` from the\n",
        "`temperatures` list."
      ]
    },
    {
      "cell_type": "code",
      "execution_count": null,
      "metadata": {
        "vscode": {
          "languageId": "python"
        },
        "id": "XWfJKBdI09UF"
      },
      "outputs": [],
      "source": [
        "# Place your answer here"
      ]
    },
    {
      "cell_type": "markdown",
      "metadata": {
        "id": "1y22ooNi09UG"
      },
      "source": [
        "Question 11: Using Numpy, Calculate the following statistics for `temp_array`:\n",
        "\n",
        "a) Mean temperature\n",
        "b) Maximum temperature\n",
        "c) Minimum temperature\n",
        "d) Standard deviation of temperatures"
      ]
    },
    {
      "cell_type": "code",
      "execution_count": null,
      "metadata": {
        "vscode": {
          "languageId": "python"
        },
        "id": "gyvEDmZ109UG"
      },
      "outputs": [],
      "source": [
        "# Place your answer here"
      ]
    },
    {
      "cell_type": "markdown",
      "metadata": {
        "id": "mETFU5Fu09UG"
      },
      "source": [
        "### 6 Placeting It All Together\n",
        "\n",
        "Question 12: Create a simple weather dashboard that uses the functions you've created earlier. Your dashboard should:\n",
        "\n",
        "a) Use the `temperatures` and `humidity` lists from earlier exercises.\n",
        "b) Utilise the `celsius_to_fahrenheit`, `average_temperature`, and `weather_description` functions you created.\n",
        "c) Use NumPy to perform some calculations.\n",
        "d) Display the following information:\n",
        "   - Daily weather description for each day\n",
        "   - Average temperature in both Celsius and Fahrenheit\n",
        "   - The hottest and coldest days of the week\n",
        "   - A summary of how many days were in each weather category (e.g., \"Hot and Dry\", \"Pleasant\", etc.)\n",
        "\n",
        "Write a Python script that creates this dashboard. You can display the\n",
        "information using print statements.\n",
        "\n",
        "Hint: You might want to use a loop to go through the daily data, and you can use\n",
        "a dictionary to keep track of the count of different weather descriptions."
      ]
    },
    {
      "cell_type": "code",
      "execution_count": null,
      "metadata": {
        "vscode": {
          "languageId": "python"
        },
        "id": "SApjmUYP09UG"
      },
      "outputs": [],
      "source": [
        "# Place your answer here"
      ]
    },
    {
      "cell_type": "markdown",
      "metadata": {
        "id": "B_onq2u209UG"
      },
      "source": [
        "### 7 Reflection\n",
        "\n",
        "Question 13: Briefly explain how functions have helped in organising and\n",
        "simplifying the code in this weather data analysis exercise.\n",
        "\n"
      ]
    },
    {
      "cell_type": "markdown",
      "metadata": {
        "id": "wHN7xBid09UG"
      },
      "source": [
        "Q13 Answer (double click to add text):"
      ]
    },
    {
      "cell_type": "markdown",
      "metadata": {
        "id": "UlSM2DmI09UH"
      },
      "source": [
        "### 6 Additional Exercises (Optional)\n",
        "\n",
        "- Create a new NumPy array that contains the temperature differences\n",
        "between consecutive days. (Hint: Look up NumPy's `diff()` function)\n"
      ]
    },
    {
      "cell_type": "code",
      "execution_count": null,
      "metadata": {
        "vscode": {
          "languageId": "python"
        },
        "id": "rHvmLe5x09UH"
      },
      "outputs": [],
      "source": [
        "# Place your answer here"
      ]
    },
    {
      "cell_type": "markdown",
      "metadata": {
        "id": "_Bp5Osf909UH"
      },
      "source": [
        "- Use NumPy to find all days where the temperature was above 23°C.\n",
        "Return both the temperatures and their indices.\n"
      ]
    },
    {
      "cell_type": "code",
      "execution_count": null,
      "metadata": {
        "vscode": {
          "languageId": "python"
        },
        "id": "E_pDabr_09UH"
      },
      "outputs": [],
      "source": [
        "# Place your answer here"
      ]
    },
    {
      "cell_type": "markdown",
      "metadata": {
        "id": "vjThTh2C09UH"
      },
      "source": [
        "- Write a function that converts wind speed from m/s to km/h. (Hint:\n",
        "1 m/s = 3.6 km/h)\n"
      ]
    },
    {
      "cell_type": "code",
      "execution_count": null,
      "metadata": {
        "vscode": {
          "languageId": "python"
        },
        "id": "RAavsZt009UH"
      },
      "outputs": [],
      "source": [
        "# Place your answer here"
      ]
    },
    {
      "cell_type": "markdown",
      "metadata": {
        "id": "q2RVEGFg09UH"
      },
      "source": [
        "- Create a function that calculates the heat index given temperature\n",
        "(in Celsius) and relative humidity. You can use a simplified formula:\n",
        "\n",
        "    HI = c1 + c2T + c3R + c4T*R + c5T^2 + c6R^2 + c7T^2*R + c8T*R^2 + c9T^2*R^2\n",
        "\n",
        "    Where T is temperature, R is relative humidity (as a whole number, not a\n",
        "    percentage), and c1 to c9 are constants you can look up.\n"
      ]
    },
    {
      "cell_type": "code",
      "execution_count": null,
      "metadata": {
        "vscode": {
          "languageId": "python"
        },
        "id": "SCwrnUo409UH"
      },
      "outputs": [],
      "source": [
        "# Place your answer here"
      ]
    },
    {
      "cell_type": "markdown",
      "metadata": {
        "id": "dN_Wisv009UI"
      },
      "source": [
        "- How would you use pandas to read weather data from a CSV file named\n",
        "'weather_data.csv' and display the first 5 rows?"
      ]
    },
    {
      "cell_type": "code",
      "execution_count": null,
      "metadata": {
        "vscode": {
          "languageId": "python"
        },
        "id": "Q_6xEnH_09UI"
      },
      "outputs": [],
      "source": [
        "# Place your answer here"
      ]
    },
    {
      "cell_type": "markdown",
      "metadata": {
        "id": "XPBXwqZs09UM"
      },
      "source": [
        "- Describe how you would create a scatter plot using matplotlib to\n",
        "show the relationship between temperature and humidity.\n"
      ]
    },
    {
      "cell_type": "code",
      "execution_count": null,
      "metadata": {
        "vscode": {
          "languageId": "python"
        },
        "id": "AirubBwK09UM"
      },
      "outputs": [],
      "source": [
        "# Place your answer here"
      ]
    },
    {
      "cell_type": "markdown",
      "metadata": {
        "id": "3a0TyBMi09UN"
      },
      "source": [
        "Remember to save your work to GitHub regularly. You can do this by clicking on\n",
        "\"File\" > \"Save a copy in GitHub\" in Google Colab."
      ]
    }
  ],
  "metadata": {
    "kernelspec": {
      "display_name": "Python 3 (ipykernel)",
      "language": "python",
      "name": "python3"
    },
    "colab": {
      "provenance": [],
      "include_colab_link": true
    }
  },
  "nbformat": 4,
  "nbformat_minor": 0
}