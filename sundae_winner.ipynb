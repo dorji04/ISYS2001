{
  "nbformat": 4,
  "nbformat_minor": 0,
  "metadata": {
    "colab": {
      "provenance": [],
      "include_colab_link": true
    },
    "kernelspec": {
      "name": "python3",
      "display_name": "Python 3"
    },
    "language_info": {
      "name": "python"
    }
  },
  "cells": [
    {
      "cell_type": "markdown",
      "metadata": {
        "id": "view-in-github",
        "colab_type": "text"
      },
      "source": [
        "<a href=\"https://colab.research.google.com/github/dorji04/ISYS2001/blob/main/sundae_winner.ipynb\" target=\"_parent\"><img src=\"https://colab.research.google.com/assets/colab-badge.svg\" alt=\"Open In Colab\"/></a>"
      ]
    },
    {
      "cell_type": "markdown",
      "source": [
        "# Sundae Winner\n",
        "\n",
        "Other than (maybe) in the lectures, we haven't done any programing. Even so, Python doesn't look that hard. Below is the Python code we saw last week from Sharpen_Pencil.PDF. Perform the tasks below. If you get stuckm don't worry, we will go thorough the answers.\n",
        "\n",
        "### Task 0 - Run the program\n",
        "\n",
        "To make sure you understand what is happening, try running the cod a few times.\n",
        "\n",
        "``` To run the code, click insode the cell and either click the 'play' icon or hit shift+enter together```\n",
        "\n",
        "\n",
        "### Task 1 - Understanding input\n",
        "\n",
        "Which of the following will give you a cherry on top? What happens if when the program asks (prompts) you for a cherry on top you type (notice the different uppercase letters in the input):\n",
        "\n",
        "1. Yes\n",
        "2. yeS\n",
        "3. YES\n",
        "4. yes\n",
        "5. no\n",
        "6. NO\n",
        "\n",
        "### Task 2 - editing a program\n",
        "\n",
        "Other than in the lectures, we haven't done any programing. Even so, Python doesn;t look that hard.  Try to make the following following changes, if you get stuckm don;t worry, your lecturer will go thorough the answers:\n",
        "* Change 'Stacie' to 'Stacy'\n",
        "* Add your name to the list\n",
        "\n",
        "### Task 3 - Workflow\n",
        "\n",
        "After each change, rerun the program to make sure the chages has bene applied. When you have the change has worked, save the notebook to GitHub.\n",
        "\n",
        "Here is our workflow\n",
        "* Open/Create/import notebook into Colab\n",
        "* Make sure notebook has meaningfuly name\n",
        "* Design, edit make changest in Colab Tab\n",
        "* Save regulary to GitHub (close GitHub window after save)\n",
        "* Continue with edits in the colab tab.\n",
        "\n",
        "\n",
        "\n",
        "# The Program itself\n",
        "\n",
        "We will talk more about the ```import``` statement later lecture, but briefly it is a way of letting you use code from elsewhere.  We call this process ```import``` and the code form else where is bundled into a package or modules.    So in the following, some programmer worked out how to get the comuter to generate random numbers, and put this into a module called ```random```.  Since we want to use use we need to ```import``` the module."
      ],
      "metadata": {
        "id": "Z8lc5lPfpxup"
      }
    },
    {
      "cell_type": "code",
      "execution_count": null,
      "metadata": {
        "colab": {
          "base_uri": "https://localhost:8080/"
        },
        "id": "y4lK6jddpTME",
        "outputId": "7cc9cfcc-70c1-4fa2-8c9f-e2c68d44bc14"
      },
      "outputs": [
        {
          "output_type": "stream",
          "name": "stdout",
          "text": [
            "Congratulations Kim you have won an ice cream sundae!\n",
            "Would you like a cherry on top? yes\n",
            "One vanilla sundae  with a cherry on top for Kim coming right up...\n"
          ]
        }
      ],
      "source": [
        "import random\n",
        "\n",
        "customers =  ['Jimmy', 'Kim', 'John', 'Stacie']\n",
        "\n",
        "winner = random.choice(customers)\n",
        "\n",
        "flavor = 'vanilla'\n",
        "\n",
        "print('Congratulations ' + winner +\n",
        " ' you have won an ice cream sundae!')\n",
        "\n",
        "prompt = 'Would you like a cherry on top? '\n",
        "\n",
        "wants_cherry = input(prompt)\n",
        "\n",
        "order = flavor + ' sundae '\n",
        "\n",
        "if (wants_cherry == 'yes'):\n",
        " order = order + ' with a cherry on top'\n",
        "\n",
        "print('One ' + order + ' for ' + winner +\n",
        " ' coming right up...')"
      ]
    },
    {
      "cell_type": "markdown",
      "source": [
        "### Task 4 - Multiple winners\n",
        "\n",
        "No coding is required for this task, this is a thiking exercise where you can write your ideas down.  We are not worried  about how to do it specifically in Python. It is more important to think about what needs to be done. Google, StackOverflow, Books, etc., will help with the how. The hard part is working out the what (Problem-solving).\n",
        "\n",
        "How could the program to have two people win a sundae?  What steps need to be added?   "
      ],
      "metadata": {
        "id": "HrxSqDWcv456"
      }
    },
    {
      "cell_type": "markdown",
      "source": [
        "1.Define the Problem:\n",
        "\n",
        "You want a program that determines two winners out of a group of people for a sundae prize.\n",
        "\n",
        "2.Gather Requirements:\n",
        "\n",
        "How are winners chosen? Are they picked randomly, based on specific criteria, or through some other method?\n",
        "What information is required about each participant (e.g., names, scores, entries)?\n",
        "How should ties be handled if there are more than two top entries?\n",
        "\n",
        "3.Plan the Solution:\n",
        "\n",
        "A. Input Collection:\n",
        "\n",
        "Participant Information: Collect necessary details about each participant. This might include names, scores, or any other relevant data.\n",
        "B. Processing Logic:\n",
        "\n",
        "Selection Criteria: Decide on the criteria for choosing the winners. For example, if it's based on scores, you might need to sort the participants by their scores.\n",
        "Identify Winners:\n",
        "If selecting based on scores: Sort participants and pick the top two.\n",
        "If using another method: Ensure the method can accommodate selecting two winners.\n",
        "Handle Ties: If there’s a tie for the top spots, determine how to handle it. This could involve additional criteria or a random selection among the top candidates.\n",
        "C. Output Results:\n",
        "\n",
        "Announce Winners: Display or output the names or identifiers of the two winners.\n",
        "Steps to Implement:\n",
        "\n",
        "Step 1: Collect input data from users or a source.\n",
        "\n",
        "Example: Gather names and scores.\n",
        "Step 2: Process the data according to your selection criteria.\n",
        "\n",
        "Example: Sort the list of participants based on scores.\n",
        "Step 3: Apply logic to identify the top two winners.\n",
        "\n",
        "Example: Extract the top two entries from the sorted list.\n",
        "Step 4: Handle any ties or special cases as needed.\n",
        "\n",
        "Example: If two or more participants have the same highest score, decide how to handle it.\n",
        "Step 5: Output or display the names of the two winners.\n",
        "\n",
        "Example: Print the names of the two people who have won.\n",
        "Considerations for Extension:\n",
        "\n",
        "Additional Features: Could include handling more winners, more complex tie-breaking rules, or integrating user input dynamically."
      ],
      "metadata": {
        "id": "Qo6ZoouyDgPT"
      }
    },
    {
      "cell_type": "code",
      "source": [],
      "metadata": {
        "id": "gJF7dKtxtYMn"
      },
      "execution_count": null,
      "outputs": []
    }
  ]
}