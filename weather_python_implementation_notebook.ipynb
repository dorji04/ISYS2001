{
  "cells": [
    {
      "cell_type": "markdown",
      "metadata": {
        "id": "view-in-github",
        "colab_type": "text"
      },
      "source": [
        "<a href=\"https://colab.research.google.com/github/teaching-repositories/ISYS2001/blob/main/weather_python_implementation_notebook.ipynb\" target=\"_parent\"><img src=\"https://colab.research.google.com/assets/colab-badge.svg\" alt=\"Open In Colab\"/></a>"
      ]
    },
    {
      "cell_type": "markdown",
      "metadata": {
        "id": "sQ-WHepbYA5g"
      },
      "source": [
        "# Weather Adventures in Python Land: Implementation Notebook\n",
        "\n",
        "In this notebook, we'll implement some of the weather-related scenarios we explored in pseudocode. Focus on using branching (if-else statements) and loops, as well as any built-in functions you've learned about."
      ]
    },
    {
      "cell_type": "markdown",
      "metadata": {
        "id": "CqoY-E2RYA5i"
      },
      "source": [
        "## Question 1: Temperature-Based Clothing Suggester\n",
        "\n",
        "Implement a program that suggests what to wear based on the temperature. Use the rules from the pseudocode exercise:\n",
        "- If it's above 25°C, suggest light clothing.\n",
        "- If it's between 15°C and 25°C, suggest a light jacket.\n",
        "- If it's below 15°C, suggest warm clothing."
      ]
    },
    {
      "cell_type": "code",
      "execution_count": null,
      "metadata": {
        "id": "XB64wE6NYA5j"
      },
      "outputs": [],
      "source": [
        "# Your code here\n",
        "\n"
      ]
    },
    {
      "cell_type": "markdown",
      "metadata": {
        "id": "rWMj4GnwYA5k"
      },
      "source": [
        "## Question 2: Picnic Day Checker\n",
        "\n",
        "Create a program that checks if it's a good day for a picnic. It's a good day if it's not raining AND the temperature is between 20°C and 30°C."
      ]
    },
    {
      "cell_type": "code",
      "execution_count": null,
      "metadata": {
        "id": "ElL3BT_MYA5k"
      },
      "outputs": [],
      "source": [
        "# Your code here\n",
        "\n"
      ]
    },
    {
      "cell_type": "markdown",
      "metadata": {
        "id": "LqgZAh_nYA5k"
      },
      "source": [
        "## Question 3: Rainy Days Counter\n",
        "\n",
        "Write a program that counts the number of rainy days in a week. Use a loop to check each day's weather condition."
      ]
    },
    {
      "cell_type": "code",
      "execution_count": null,
      "metadata": {
        "id": "ioxSgD9BYA5l"
      },
      "outputs": [],
      "source": [
        "# Example list of daily rainfall (in mm)\n",
        "rainfall = [0, 5.2, 0, 0, 1.5, 0, 2.8]\n",
        "\n",
        "# Your code here\n",
        "\n"
      ]
    },
    {
      "cell_type": "markdown",
      "metadata": {
        "id": "Jy6YYlJtYA5l"
      },
      "source": [
        "## Question 4: Average Temperature Calculator\n",
        "\n",
        "Implement a program that calculates the average temperature for a 5-day period. Use a loop to input temperatures and calculate the average."
      ]
    },
    {
      "cell_type": "code",
      "execution_count": null,
      "metadata": {
        "id": "AZE44NCjYA5l"
      },
      "outputs": [],
      "source": [
        "# Your code here\n",
        "\n"
      ]
    },
    {
      "cell_type": "markdown",
      "metadata": {
        "id": "tHYLlPvgYA5m"
      },
      "source": [
        "## Question 5: Heat Wave Warning System\n",
        "\n",
        "Create a program that issues a heat wave warning. A heat wave is when the temperature is above 35°C for three consecutive days. Use a loop and counting mechanism."
      ]
    },
    {
      "cell_type": "code",
      "execution_count": null,
      "metadata": {
        "id": "dM2n1CvpYA5m"
      },
      "outputs": [],
      "source": [
        "# Example list of daily maximum temperatures\n",
        "temperatures = [34, 36, 37, 36, 35, 34, 37, 38, 39]\n",
        "\n",
        "# Your code here\n",
        "\n"
      ]
    },
    {
      "cell_type": "markdown",
      "metadata": {
        "id": "dU_BvGEqYA5m"
      },
      "source": [
        "## Reflection\n",
        "\n",
        "1. How did your Python implementations differ from your original pseudocode? Were there any challenges in translating pseudocode to Python?\n",
        "\n",
        "2. Which problem was the most challenging to implement? Why?\n",
        "\n",
        "3. If you were to ask a GenAI tutor for help with one of these implementations, what specific question would you ask?"
      ]
    },
    {
      "cell_type": "markdown",
      "metadata": {
        "id": "o1CKeDjIYA5m"
      },
      "source": [
        "Your reflections here:\n",
        "\n",
        "1.\n",
        "\n",
        "2.\n",
        "\n",
        "3."
      ]
    }
  ],
  "metadata": {
    "kernelspec": {
      "display_name": "Python 3",
      "language": "python",
      "name": "python3"
    },
    "language_info": {
      "codemirror_mode": {
        "name": "ipython",
        "version": 3
      },
      "file_extension": ".py",
      "mimetype": "text/x-python",
      "name": "python",
      "nbconvert_exporter": "python",
      "pygments_lexer": "ipython3",
      "version": "3.8.5"
    },
    "colab": {
      "provenance": [],
      "include_colab_link": true
    }
  },
  "nbformat": 4,
  "nbformat_minor": 0
}